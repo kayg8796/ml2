{
 "cells": [
  {
   "cell_type": "code",
   "execution_count": null,
   "metadata": {},
   "outputs": [],
   "source": [
    "import keras\n",
    "from keras.models import Sequential\n",
    "from keras.layers import Dense,Dropout\n",
    "from keras.layers import Conv2D\n",
    "from keras.layers import MaxPooling2D\n",
    "from keras.layers import Flatten\n",
    "from keras.callbacks import EarlyStopping as stoppoint\n",
    "\n",
    "#initialising the CNN\n",
    "model = Sequential()\n",
    "\n",
    "#step 1 Convolution\n",
    "model.add(Conv2D(32,(3,3),input_shape=(28,28,1),activation='relu'))\n",
    "\n",
    "#step 2 max polling\n",
    "model.add(MaxPooling2D(pool_size=(2,2),padding = 'same'))\n",
    "\n",
    "#adding a second convolutional layer\n",
    "model.add(Conv2D(32,(3,3),activation='relu'))\n",
    "model.add(MaxPooling2D(pool_size = (2, 2),padding = 'same'))\n",
    "\n",
    "#step 3 : flattening\n",
    "model.add(Flatten())\n",
    "model.add(Dropout(0.1))\n",
    "#step 4: full connection with the ann\n",
    "model.add(Dense(units=128, activation='relu'))\n",
    "model.add(Dense(units=10, activation='softmax'))\n",
    "\n",
    "#step 5: compiling the CNN\n",
    "model.compile(optimizer='adam',loss='categorical_crossentropy',metrics=['accuracy'])\n",
    "\n",
    "model.summary()\n",
    "\n",
    "#part 2: fitting the dataset to the CNN\n",
    "from keras.preprocessing.image import ImageDataGenerator\n",
    "\n",
    "#train_datagen was used alongside different combination of the parameters was used to perform dataset augmentation\n",
    "#apriori to training the model\n",
    "'''train_datagen = ImageDataGenerator(rescale = 1./255,\n",
    "                                   shear_range = 0.2,\n",
    "                                   zoom_range = [0.5,1.0],\n",
    "                                   width_shift_range = [-5,5],\n",
    "                                   vertical_flip = True)\n",
    "train_datagen.fit(xtrain)\n",
    "training_set = train_datagen.flow_from_directory('combined_data',\n",
    "                                                 target_size = (28, 28),\n",
    "                                                 color_mode = 'grayscale',\n",
    "                                                 save_to_dir = 'dataset3',\n",
    "                                                 batch_size = 10,\n",
    "                                                 class_mode = 'categorical') '''\n",
    "\n",
    "test_datagen = ImageDataGenerator(rescale = 1./255)\n",
    "test_set = test_datagen.flow_from_directory('combined_data',\n",
    "                                            target_size = (28, 28),\n",
    "                                            color_mode='grayscale',\n",
    "                                            batch_size = 10,\n",
    "                                            class_mode = 'categorical',\n",
    "                                            shuffle=True)\n",
    "model.fit_generator(test_set,\n",
    "                         steps_per_epoch = 1000, # number of batches to draw from the generator at each epoch\n",
    "                         epochs = 10)"
   ]
  },
  {
   "cell_type": "code",
   "execution_count": null,
   "metadata": {},
   "outputs": [],
   "source": [
    "#import test data\n",
    "import numpy as np\n",
    "import cv2 as cv\n",
    "from skimage.transform import resize\n",
    "from keras.utils import to_categorical"
   ]
  },
  {
   "cell_type": "code",
   "execution_count": null,
   "metadata": {},
   "outputs": [],
   "source": [
    "#importing testset from directory\n",
    "\n",
    "import numpy as np\n",
    "import os\n",
    "image_arr=[]\n",
    "yt = np.array([])\n",
    "data = os.listdir('dataset2')\n",
    "for i in data:\n",
    "    photos=os.listdir('dataset2/'+i)\n",
    "    yt=np.concatenate((yt,int(i)*np.ones(len(photos))))\n",
    "    for photo in photos:\n",
    "        image_dir = 'dataset2/'+i+'/'+photo\n",
    "        # load & smoothen image\n",
    "        kernel = np.ones((7,7),np.float32)/49\n",
    "        image = cv.imread(image_dir,cv.IMREAD_GRAYSCALE)\n",
    "        #image = cv.filter2D(image,3,kernel)\n",
    "\n",
    "        # make numpy array\n",
    "        image = np.array(image)\n",
    "        image = cv.resize(image, (28,28))\n",
    "        # make negative\n",
    "        #image = np.ones(image.shape) - image\n",
    "        image_arr.append(image)\n",
    "xt = np.array(image_arr)\n",
    "yt=  [int(i) for i in yt]\n",
    "yt = np.array(yt)\n",
    "\n",
    "xt = xt/255.0\n",
    "yt = yt.reshape([-1,1])\n",
    "yt = to_categorical(yt)\n",
    "xtr=np.expand_dims(xt, axis=0)\n",
    "xtr = np.moveaxis(xtr,0,-1)"
   ]
  },
  {
   "cell_type": "code",
   "execution_count": null,
   "metadata": {},
   "outputs": [],
   "source": [
    "model.evaluate(xtr,yt)"
   ]
  },
  {
   "cell_type": "code",
   "execution_count": null,
   "metadata": {},
   "outputs": [],
   "source": [
    "(xtrain,ytrain) , (xtest,ytest) = keras.datasets.mnist.load_data()\n",
    "xtest=np.expand_dims(xtest,axis=-1)\n",
    "ytest = to_categorical(ytest)\n",
    "xtrain=np.expand_dims(xtrain,axis=-1)\n",
    "ytrain = to_categorical(ytrain)"
   ]
  },
  {
   "cell_type": "code",
   "execution_count": null,
   "metadata": {},
   "outputs": [],
   "source": [
    "model.evaluate(xtest,ytest)"
   ]
  },
  {
   "cell_type": "code",
   "execution_count": null,
   "metadata": {},
   "outputs": [],
   "source": [
    "#saving model\n",
    "model.save('question3_model.h5')\n",
    "print('model save to disk as : \"question3_model.h5\" \\n')\n",
    "#how to load model shown below\n",
    "#model_new = keras.models.load_model('question3.h5')"
   ]
  },
  {
   "cell_type": "code",
   "execution_count": null,
   "metadata": {},
   "outputs": [],
   "source": []
  }
 ],
 "metadata": {
  "kernelspec": {
   "display_name": "Python 3",
   "language": "python",
   "name": "python3"
  },
  "language_info": {
   "codemirror_mode": {
    "name": "ipython",
    "version": 3
   },
   "file_extension": ".py",
   "mimetype": "text/x-python",
   "name": "python",
   "nbconvert_exporter": "python",
   "pygments_lexer": "ipython3",
   "version": "3.7.4"
  }
 },
 "nbformat": 4,
 "nbformat_minor": 2
}
